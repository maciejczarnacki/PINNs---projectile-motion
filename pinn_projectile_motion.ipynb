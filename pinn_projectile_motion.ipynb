{
 "cells": [
  {
   "cell_type": "markdown",
   "metadata": {},
   "source": [
    "# Projectile motion solved with PINNs"
   ]
  },
  {
   "cell_type": "code",
   "execution_count": 1,
   "metadata": {},
   "outputs": [],
   "source": [
    "# import necessery packages like pytorch, matplotlib and PIL\n",
    "import torch\n",
    "from torch import nn\n",
    "import matplotlib.pyplot as plt\n",
    "import numpy as np\n",
    "\n",
    "from PIL import Image"
   ]
  },
  {
   "cell_type": "code",
   "execution_count": 2,
   "metadata": {},
   "outputs": [],
   "source": [
    "# Function for converting png plots files to animated gif - taken from this excelent github repository about PINNs\n",
    "# https://github.com/benmoseley/harmonic-oscillator-pinn\n",
    "\n",
    "def save_gif_PIL(outfile, files, fps=5, loop=0):\n",
    "    \"Helper function for saving GIFs\"\n",
    "    imgs = [Image.open(file) for file in files]\n",
    "    imgs[0].save(fp=outfile, format='GIF', append_images=imgs[1:], save_all=True, duration=int(1000/fps), loop=loop)"
   ]
  },
  {
   "cell_type": "code",
   "execution_count": 3,
   "metadata": {},
   "outputs": [],
   "source": [
    "# Projectile motion data generator - simple school solution of projectile motion.\n",
    "\n",
    "def projectile_motion_gen(t, g, v_0, h_0, alpha):\n",
    "    x = v_0 * torch.cos(alpha) * t\n",
    "    y = h_0 + v_0 * torch.sin(alpha) * t + 0.5 * g * t**2\n",
    "    return x.view(-1,1), y.view(-1,1)"
   ]
  },
  {
   "cell_type": "code",
   "execution_count": 4,
   "metadata": {},
   "outputs": [],
   "source": [
    "# Neural network definition\n",
    "\n",
    "class PM(nn.Module):\n",
    "    def __init__(self, n_input, n_output, n_hidden):\n",
    "        super().__init__()\n",
    "        self.input_layer = nn.Linear(n_input, n_hidden)\n",
    "        self.hidden_layer_1 = nn.Linear(n_hidden, n_hidden)\n",
    "        self.hidden_layer_2 = nn.Linear(n_hidden, n_hidden)\n",
    "        self.hidden_layer_3 = nn.Linear(n_hidden, n_hidden)\n",
    "        self.hidden_layer_4 = nn.Linear(n_hidden, n_hidden)\n",
    "        self.output_layer = nn.Linear(n_hidden, n_output)\n",
    "\n",
    "    def forward(self, x):\n",
    "        x = self.input_layer(x)\n",
    "        x = torch.tanh(x)\n",
    "        x = self.hidden_layer_1(x)\n",
    "        x = torch.tanh(x)\n",
    "        x = self.hidden_layer_2(x)\n",
    "        x = torch.tanh(x)\n",
    "        x = self.hidden_layer_3(x)\n",
    "        x = torch.tanh(x)\n",
    "        x = self.hidden_layer_4(x)\n",
    "        x = torch.tanh(x)\n",
    "        output_ = self.output_layer(x)\n",
    "        return output_"
   ]
  },
  {
   "cell_type": "code",
   "execution_count": 5,
   "metadata": {},
   "outputs": [],
   "source": [
    "# Training data generation where g - gravitational acceleration, v_0 - initial velocity, h_0 - initial heigh, alpha - between v_0 velocity vector and x-axis.\n",
    "g = -9.81\n",
    "v_0 = 6.5\n",
    "h_0 = 1.5\n",
    "alpha = torch.Tensor([torch.pi/3]) # pi/3 -> 60 degrees\n",
    "\n",
    "# time domain\n",
    "t = torch.linspace(0, 1.5, 100).view(-1,1)\n",
    "\n",
    "\n",
    "x, y = projectile_motion_gen(t, g, v_0, h_0, alpha)\n",
    "\n",
    "# Choosing data for NN training\n",
    "x_data = x[0:40:8]\n",
    "y_data = y[0:40:8]\n",
    "t_data = t[0:40:8]"
   ]
  },
  {
   "cell_type": "code",
   "execution_count": 6,
   "metadata": {},
   "outputs": [
    {
     "data": {
      "image/png": "[encoded data removed]",
      "text/plain": [
       "<Figure size 640x480 with 1 Axes>"
      ]
     },
     "metadata": {},
     "output_type": "display_data"
    }
   ],
   "source": [
    "# Training data and mathematical solution visualisation\n",
    "\n",
    "plt.figure()\n",
    "plt.plot(x, y, label='mathematical solution')\n",
    "plt.scatter(x_data, y_data, color='red', label='training data')\n",
    "plt.legend()\n",
    "plt.title('Training data')\n",
    "plt.show()"
   ]
  },
  {
   "cell_type": "code",
   "execution_count": 7,
   "metadata": {},
   "outputs": [],
   "source": [
    "# More plots\n",
    "\n",
    "def plots_in_run(t, t_data, x, y, x_h, y_h, x_data, y_data, i, losses_p, losses_d):\n",
    "    fig, axs = plt.subplots(2, 2, figsize=(9,9), constrained_layout=True)\n",
    "    fig.suptitle(f'Projectile motion solved by PINN, step: {i + 1}')\n",
    "    axs[0, 0].plot(t, x, color='gray', label = 'Mathematical solution')\n",
    "    axs[0, 0].scatter(t_data, x_data, color='orange' ,label = 'Training data')\n",
    "    axs[0, 0].plot(t, x_h, color='green', label = 'PINN result')\n",
    "    axs[0, 0].set(xlabel='t', ylabel='x(t)')\n",
    "    axs[0, 0].legend()\n",
    "    axs[1, 0].plot(t, y, color='gray', label = 'Mathematical solution')\n",
    "    axs[1, 0].scatter(t_data, y_data, color='orange' ,label = 'Training data')\n",
    "    axs[1, 0].plot(t, y_h, color='green', label = 'PINN result')\n",
    "    axs[1, 0].set(xlabel='t', ylabel='y(t)')\n",
    "    axs[0, 1].plot(x, y, color='gray', label = 'Mathematical solution')\n",
    "    axs[0, 1].scatter(x_data, y_data, color='orange' ,label = 'Training data')\n",
    "    axs[0, 1].plot(x_h, y_h, color='green', label = 'PINN result')\n",
    "    axs[0, 1].set(xlabel='x', ylabel='y')\n",
    "    axs[1, 1].plot(losses_d, color='blue', label = 'Data loss')\n",
    "    axs[1, 1].plot(losses_p, color='red', label = 'Physics loss')\n",
    "    axs[1, 1].set(xlabel='i', ylabel='loss')\n",
    "    axs[1, 1].legend()\n",
    "    axs[1, 1].set_xticks([])\n",
    "    "
   ]
  },
  {
   "cell_type": "code",
   "execution_count": 8,
   "metadata": {},
   "outputs": [],
   "source": [
    "# Neural network initialization\n",
    "\n",
    "model = PM(1, 2, 32)\n",
    "\n",
    "t_physics = torch.linspace(0, 1.5, 20).view(-1, 1).requires_grad_(True)\n",
    "\n",
    "optimizer = torch.optim.Adam(model.parameters(), lr=0.0005)\n",
    "\n",
    "\n",
    "# Training loop\n",
    "epochs = 7000\n",
    "losses_p = []\n",
    "losses_d = []\n",
    "files = []\n",
    "for i in range(epochs):\n",
    "    optimizer.zero_grad()\n",
    "    \n",
    "    # forward pass of training data and loss calculation\n",
    "    z = model(t_data)\n",
    "    x_h, y_h = z[:,[0]], z[:,[1]]\n",
    "    loss_1 = torch.mean((x_h - x_data)**2) + torch.mean((y_h - y_data)**2)\n",
    "\n",
    "    # forward pass for physics - gradients calculation and physics loss estimation\n",
    "    z_p = model(t_physics)\n",
    "    x_h_p, y_h_p = z_p[:,[0]], z_p[:,[1]]\n",
    "    dx = torch.autograd.grad(x_h_p, t_physics, torch.ones_like(x_h_p), create_graph=True)[0]\n",
    "    d2x = torch.autograd.grad(dx, t_physics, torch.ones_like(dx), create_graph=True)[0]\n",
    "    dy = torch.autograd.grad(y_h_p, t_physics, torch.ones_like(y_h_p), create_graph=True)[0]\n",
    "    d2y = torch.autograd.grad(dy, t_physics, torch.ones_like(dy), create_graph=True)[0]\n",
    "\n",
    "    physics_x = d2x - 0\n",
    "    physics_y = d2y - g\n",
    "\n",
    "    loss_x = torch.mean(physics_x**2)\n",
    "    loss_y = torch.mean(physics_y**2)\n",
    "    loss_physics = loss_x + loss_y\n",
    "    loss = loss_1 + 0.00075 * loss_y + 0.00075 * loss_x\n",
    "\n",
    "    # backpropagation\n",
    "    loss.backward()\n",
    "    optimizer.step()\n",
    "\n",
    "    losses_p.append(loss_physics.item())\n",
    "    losses_d.append(loss_1.item())\n",
    "\n",
    "    # png files generation\n",
    "    if (i + 1) % 25 == 0:\n",
    "        z_p = model(t).detach()\n",
    "        x_h_p, y_h_p = z_p[:,[0]], z_p[:,[1]]\n",
    "        \n",
    "        plots_in_run(t, t_data, x, y, x_h_p, y_h_p, x_data, y_data, i, losses_p, losses_d)\n",
    "\n",
    "        file = \"plots/pinn_%.8i.png\"%(i+1)\n",
    "        plt.savefig(file, bbox_inches='tight', pad_inches=0.1, dpi=100, facecolor=\"white\")\n",
    "        files.append(file)\n",
    "\n",
    "        if (i) % 1000 == 0: plt.show()\n",
    "        else: plt.close(\"all\")\n",
    "\n",
    "# Animated gif generation\n",
    "save_gif_PIL(\"pinn.gif\", files, fps=20, loop=0)\n"
   ]
  }
 ],
 "metadata": {
  "kernelspec": {
   "display_name": "Python 3",
   "language": "python",
   "name": "python3"
  },
  "language_info": {
   "codemirror_mode": {
    "name": "ipython",
    "version": 3
   },
   "file_extension": ".py",
   "mimetype": "text/x-python",
   "name": "python",
   "nbconvert_exporter": "python",
   "pygments_lexer": "ipython3",
   "version": "3.10.11"
  }
 },
 "nbformat": 4,
 "nbformat_minor": 2
}
